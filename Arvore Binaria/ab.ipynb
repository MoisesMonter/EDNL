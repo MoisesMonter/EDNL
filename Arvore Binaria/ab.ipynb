{
 "cells": [
  {
   "cell_type": "markdown",
   "metadata": {},
   "source": [
    "Nó : Esquerda , Direita , Valor"
   ]
  },
  {
   "cell_type": "code",
   "execution_count": 35,
   "metadata": {},
   "outputs": [],
   "source": [
    "class Nodo:\n",
    "    def __init__(self, value, left = None,right = None):\n",
    "        self.left = left\n",
    "        self.key = int(value)\n",
    "        self.right = right\n",
    "    def __repr__(self):\n",
    "        return '%s <- %s -> %s' % (self.left and self.left.key,\n",
    "                                    self.key,\n",
    "                                    self.right and self.right.key)\n",
    "\n"
   ]
  },
  {
   "cell_type": "markdown",
   "metadata": {},
   "source": [
    "1) Escreva um algoritmo para calcular a altura de um árvore binária.\n",
    "2) Escreva um algoritmo que conte o número de nós de uma árvore binária.\n",
    "3) Escreva um algoritmo que conte o número de folhas de uma árvore binária.\n",
    "4) Escreva um algoritmo que insira um número na árvore binária.\n",
    "5) Escreva um algoritmo que delete um nó de uma árvore binária."
   ]
  },
  {
   "cell_type": "code",
   "execution_count": 36,
   "metadata": {},
   "outputs": [],
   "source": [
    "def create():\n",
    "    return Nodo(input(\"Crie o nó:\"))\n"
   ]
  },
  {
   "cell_type": "code",
   "execution_count": 38,
   "metadata": {},
   "outputs": [],
   "source": [
    "def insert(raiz,new_nodo):\n",
    "    if raiz is None:\n",
    "        raiz = new_nodo\n",
    "    \n",
    "    elif int(raiz.key) < int(new_nodo.key):\n",
    "        if raiz.right is None:\n",
    "            raiz.right = new_nodo\n",
    "        else:\n",
    "            insert(raiz.right,new_nodo)\n",
    "    \n",
    "    else:\n",
    "        if raiz.left is None:\n",
    "            raiz.left = new_nodo\n",
    "        else:\n",
    "            insert(raiz.left,new_nodo)\n",
    "\n",
    "def delete(raiz):\n",
    "    pass\n",
    "    "
   ]
  },
  {
   "cell_type": "code",
   "execution_count": 39,
   "metadata": {},
   "outputs": [],
   "source": [
    "raiz = create()"
   ]
  },
  {
   "cell_type": "code",
   "execution_count": 40,
   "metadata": {},
   "outputs": [
    {
     "name": "stdout",
     "output_type": "stream",
     "text": [
      "[34, 51, 40, 47, 23]\n"
     ]
    }
   ],
   "source": [
    "import random \n",
    "if __name__ == \"__main__\":\n",
    "\n",
    "    listing = [random.randint(0,55) for x in range(5)]\n",
    "    print(listing)\n",
    "    for key in listing:\n",
    "        new_nodo = Nodo(key)\n",
    "        insert(raiz,new_nodo)\n",
    "    \n",
    "   "
   ]
  },
  {
   "cell_type": "code",
   "execution_count": 103,
   "metadata": {},
   "outputs": [],
   "source": [
    "def search(raiz,value,nodo):\n",
    "    nodo+=1\n",
    "    \n",
    "    if raiz is None or raiz.key is None:\n",
    "        return \"Raiz is None\"\n",
    "    \n",
    "    if int(raiz.key) == int(value):\n",
    "        print(\"here in Node: \"+str(nodo))\n",
    "        return 1\n",
    "    \n",
    "    if int(raiz.key) <= value:\n",
    "        print(raiz,' ...search: ',value, 'in RIGHT')\n",
    "        search(raiz.right,value,nodo)\n",
    "        \n",
    "    elif int(raiz.key) >= value:\n",
    "        print(raiz,' ...search: ',value, 'in LEFT')\n",
    "        search(raiz.right,value,nodo)\n",
    "\n",
    "    "
   ]
  },
  {
   "cell_type": "code",
   "execution_count": 105,
   "metadata": {},
   "outputs": [
    {
     "name": "stdout",
     "output_type": "stream",
     "text": [
      "None <- 20 -> 34  ...search:  40 in RIGHT\n",
      "23 <- 34 -> 51  ...search:  40 in RIGHT\n",
      "40 <- 51 -> None  ...search:  40 in LEFT\n"
     ]
    }
   ],
   "source": [
    "search(raiz,40,0)"
   ]
  },
  {
   "cell_type": "code",
   "execution_count": 33,
   "metadata": {},
   "outputs": [
    {
     "ename": "AttributeError",
     "evalue": "'int' object has no attribute 'key'",
     "output_type": "error",
     "traceback": [
      "\u001b[1;31m---------------------------------------------------------------------------\u001b[0m",
      "\u001b[1;31mAttributeError\u001b[0m                            Traceback (most recent call last)",
      "Cell \u001b[1;32mIn[33], line 1\u001b[0m\n\u001b[1;32m----> 1\u001b[0m \u001b[43msearch\u001b[49m\u001b[43m(\u001b[49m\u001b[43mraiz\u001b[49m\u001b[43m,\u001b[49m\u001b[38;5;241;43m25\u001b[39;49m\u001b[43m)\u001b[49m\n",
      "Cell \u001b[1;32mIn[31], line 14\u001b[0m, in \u001b[0;36msearch\u001b[1;34m(raiz, value)\u001b[0m\n\u001b[0;32m     12\u001b[0m         \u001b[38;5;28;01mreturn\u001b[39;00m \u001b[38;5;28;01mNone\u001b[39;00m\n\u001b[0;32m     13\u001b[0m     \u001b[38;5;28;01melse\u001b[39;00m:\n\u001b[1;32m---> 14\u001b[0m         \u001b[43msearch\u001b[49m\u001b[43m(\u001b[49m\u001b[43mraiz\u001b[49m\u001b[38;5;241;43m.\u001b[39;49m\u001b[43mright\u001b[49m\u001b[43m,\u001b[49m\u001b[43mvalue\u001b[49m\u001b[43m)\u001b[49m\n\u001b[0;32m     15\u001b[0m         \u001b[38;5;28;01mreturn\u001b[39;00m \u001b[38;5;28;01mNone\u001b[39;00m\n\u001b[0;32m     16\u001b[0m \u001b[38;5;28;01melse\u001b[39;00m:\n",
      "Cell \u001b[1;32mIn[31], line 24\u001b[0m, in \u001b[0;36msearch\u001b[1;34m(raiz, value)\u001b[0m\n\u001b[0;32m     22\u001b[0m     \u001b[38;5;28;01mreturn\u001b[39;00m \u001b[38;5;28;01mNone\u001b[39;00m  \n\u001b[0;32m     23\u001b[0m \u001b[38;5;28;01melse\u001b[39;00m:\n\u001b[1;32m---> 24\u001b[0m     \u001b[43minsert\u001b[49m\u001b[43m(\u001b[49m\u001b[43mraiz\u001b[49m\u001b[38;5;241;43m.\u001b[39;49m\u001b[43mleft\u001b[49m\u001b[43m,\u001b[49m\u001b[43mvalue\u001b[49m\u001b[43m)\u001b[49m\n",
      "Cell \u001b[1;32mIn[14], line 5\u001b[0m, in \u001b[0;36minsert\u001b[1;34m(raiz, new_nodo)\u001b[0m\n\u001b[0;32m      2\u001b[0m \u001b[38;5;28;01mif\u001b[39;00m raiz \u001b[38;5;129;01mis\u001b[39;00m \u001b[38;5;28;01mNone\u001b[39;00m:\n\u001b[0;32m      3\u001b[0m     raiz \u001b[38;5;241m=\u001b[39m new_nodo\n\u001b[1;32m----> 5\u001b[0m \u001b[38;5;28;01melif\u001b[39;00m \u001b[38;5;28mint\u001b[39m(raiz\u001b[38;5;241m.\u001b[39mkey) \u001b[38;5;241m<\u001b[39m \u001b[38;5;28mint\u001b[39m(\u001b[43mnew_nodo\u001b[49m\u001b[38;5;241;43m.\u001b[39;49m\u001b[43mkey\u001b[49m):\n\u001b[0;32m      6\u001b[0m     \u001b[38;5;28;01mif\u001b[39;00m raiz\u001b[38;5;241m.\u001b[39mright \u001b[38;5;129;01mis\u001b[39;00m \u001b[38;5;28;01mNone\u001b[39;00m:\n\u001b[0;32m      7\u001b[0m         raiz\u001b[38;5;241m.\u001b[39mright \u001b[38;5;241m=\u001b[39m new_nodo\n",
      "\u001b[1;31mAttributeError\u001b[0m: 'int' object has no attribute 'key'"
     ]
    }
   ],
   "source": [
    "search(raiz,25)"
   ]
  },
  {
   "cell_type": "code",
   "execution_count": 24,
   "metadata": {},
   "outputs": [
    {
     "name": "stdout",
     "output_type": "stream",
     "text": [
      "4 <- 15 -> 25\n"
     ]
    }
   ],
   "source": [
    "print(raiz)"
   ]
  }
 ],
 "metadata": {
  "kernelspec": {
   "display_name": "Python 3.10.7 64-bit",
   "language": "python",
   "name": "python3"
  },
  "language_info": {
   "codemirror_mode": {
    "name": "ipython",
    "version": 3
   },
   "file_extension": ".py",
   "mimetype": "text/x-python",
   "name": "python",
   "nbconvert_exporter": "python",
   "pygments_lexer": "ipython3",
   "version": "3.11.4"
  },
  "orig_nbformat": 4,
  "vscode": {
   "interpreter": {
    "hash": "369f2c481f4da34e4445cda3fffd2e751bd1c4d706f27375911949ba6bb62e1c"
   }
  }
 },
 "nbformat": 4,
 "nbformat_minor": 2
}
