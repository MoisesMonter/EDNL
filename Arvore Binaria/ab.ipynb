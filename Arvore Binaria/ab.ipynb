{
 "cells": [
  {
   "cell_type": "markdown",
   "metadata": {},
   "source": [
    "Nó : Esquerda , Direita , Valor"
   ]
  },
  {
   "cell_type": "code",
   "execution_count": 9,
   "metadata": {},
   "outputs": [],
   "source": [
    "class Nodo:\n",
    "    def __init__(self, value, left = None,right = None, previous = None):\n",
    "        self.left = left\n",
    "        self.key = int(value)\n",
    "        self.right = right\n",
    "        \n",
    "    def __repr__(self):\n",
    "        return '%s <- %s -> %s' % (self.left and self.left.key,\n",
    "                                    self.key,\n",
    "                                    self.right and self.right.key)\n",
    "\n"
   ]
  },
  {
   "cell_type": "markdown",
   "metadata": {},
   "source": [
    "1) Escreva um algoritmo para calcular a altura de um árvore binária.\n",
    "2) Escreva um algoritmo que conte o número de nós de uma árvore binária.\n",
    "3) Escreva um algoritmo que conte o número de folhas de uma árvore binária.\n",
    "4) Escreva um algoritmo que insira um número na árvore binária.\n",
    "5) Escreva um algoritmo que delete um nó de uma árvore binária."
   ]
  },
  {
   "cell_type": "code",
   "execution_count": 10,
   "metadata": {},
   "outputs": [],
   "source": [
    "def create():\n",
    "    return Nodo(input(\"Crie o nó:\"))\n"
   ]
  },
  {
   "cell_type": "code",
   "execution_count": 11,
   "metadata": {},
   "outputs": [],
   "source": [
    "def insert(raiz,new_nodo):\n",
    "    if raiz is None:\n",
    "        raiz = new_nodo\n",
    "    \n",
    "    elif int(raiz.key) < int(new_nodo.key):\n",
    "        if raiz.right is None:\n",
    "            raiz.right = new_nodo\n",
    "        else:\n",
    "            insert(raiz.right,new_nodo)\n",
    "    \n",
    "    else:\n",
    "        if raiz.left is None:\n",
    "            raiz.left = new_nodo\n",
    "        else:\n",
    "            insert(raiz.left,new_nodo)\n",
    "\n",
    "def delete(raiz):\n",
    "    pass\n",
    "    "
   ]
  },
  {
   "cell_type": "code",
   "execution_count": 12,
   "metadata": {},
   "outputs": [],
   "source": [
    "raiz = create()"
   ]
  },
  {
   "cell_type": "code",
   "execution_count": 13,
   "metadata": {},
   "outputs": [
    {
     "name": "stdout",
     "output_type": "stream",
     "text": [
      "[44, 42, 21, 2, 36]\n"
     ]
    }
   ],
   "source": [
    "import random \n",
    "if __name__ == \"__main__\":\n",
    "\n",
    "    listing = [random.randint(0,55) for x in range(5)]\n",
    "    print(listing)\n",
    "    for key in listing:\n",
    "        new_nodo = Nodo(key)\n",
    "        insert(raiz,new_nodo)\n",
    "    \n",
    "   "
   ]
  },
  {
   "cell_type": "code",
   "execution_count": 14,
   "metadata": {},
   "outputs": [],
   "source": [
    "def printed(raiz,searched,nodo):\n",
    "    run = \"Raiz\"\n",
    "    if len(searched) <=0:\n",
    "        print(raiz, ' here in ',run, \", Nodo: \",nodo)\n",
    "    else:\n",
    "\n",
    "        cont = 0\n",
    "        print(raiz, ' here in ',run, \", Nodo: \",cont)\n",
    "        for l_or_r in searched:\n",
    "            cont+=1\n",
    "            if l_or_r == 0:\n",
    "                \n",
    "                raiz,run  = raiz.right,\"RIGHT\"\n",
    "                \n",
    "            else:\n",
    "                raiz,run = raiz.left,\"LEFT\"\n",
    "            print(raiz, 'came from RIGHT', \", Nodo: \",cont)"
   ]
  },
  {
   "cell_type": "code",
   "execution_count": 20,
   "metadata": {},
   "outputs": [],
   "source": [
    "def search_smalle_case(raiz,value,searched,l_o_r = None):\n",
    "    if l_o_r == None:\n",
    "        if int(raiz.key) <= int(value):\n",
    "            l_o_r = 0\n",
    "            raiz = raiz.right\n",
    "        else:\n",
    "            l_o_r = 1\n",
    "            raiz = raiz.left\n",
    "    if raiz.left != None and raiz.right != None:\n",
    "        if raiz.left != None:\n",
    "            search_smalle_case(raiz,value,[],l_o_r)\n",
    "        elif raiz.left == None:\n",
    "            searched.append(1)\n",
    "            return raiz\n",
    "    else:\n",
    "        return raiz\n",
    "\n",
    "    "
   ]
  },
  {
   "cell_type": "code",
   "execution_count": 16,
   "metadata": {},
   "outputs": [],
   "source": [
    "def deleted(raiz,value):\n",
    "    x = search_smalle_case(raiz,value,[],None)\n",
    "    print(x)\n",
    "    "
   ]
  },
  {
   "cell_type": "code",
   "execution_count": 17,
   "metadata": {},
   "outputs": [],
   "source": [
    "def search(raiz,value,nodo,searched):\n",
    "\n",
    "    if raiz is None or raiz.key is None:\n",
    "        print(\"Raiz is None\")\n",
    "    \n",
    "    if int(raiz.key) == int(value):\n",
    "        print(\"here in Node: \"+str(nodo))\n",
    "        print(searched)\n",
    "\n",
    "        return searched, nodo\n",
    "    \n",
    "    nodo+=1\n",
    "    \n",
    "    if int(raiz.key) <= value:\n",
    "        # print(raiz,' ...search: ',value, 'in RIGHT', \"Nodo: \",nodo)\n",
    "        if raiz.right == None:\n",
    "            print(\"END, Not searched\")\n",
    "        else:\n",
    "            searched.append(0)\n",
    "            search(raiz.right,value,nodo,searched)\n",
    "        \n",
    "    elif int(raiz.key) >= value:\n",
    "        # print(raiz,' ...search: ',value, 'in LEFT',\"Nodo: \",nodo)\n",
    "        if raiz.left == None:\n",
    "            print(\"END, Not searched\")\n",
    "\n",
    "\n",
    "        else:\n",
    "            searched.append(1)\n",
    "            search(raiz.left,value,nodo,searched)\n",
    "\n",
    "    return searched, nodo\n",
    "    \n",
    "    "
   ]
  },
  {
   "cell_type": "code",
   "execution_count": 24,
   "metadata": {},
   "outputs": [
    {
     "name": "stdout",
     "output_type": "stream",
     "text": [
      "END, Not searched\n",
      "2 <- 15 -> 44  here in  Raiz , Nodo:  0\n",
      "42 <- 44 -> None came from RIGHT , Nodo:  1\n",
      "21 <- 42 -> None came from RIGHT , Nodo:  2\n",
      "None <- 21 -> 36 came from RIGHT , Nodo:  3\n",
      "None <- 36 -> None came from RIGHT , Nodo:  4\n",
      "42 <- 44 -> None\n"
     ]
    }
   ],
   "source": [
    "node= int(0)\n",
    "\n",
    "seach,node = search(raiz,23,node,[])\n",
    "printed(raiz,seach,node)\n",
    "deleted(raiz,15)"
   ]
  },
  {
   "cell_type": "code",
   "execution_count": 130,
   "metadata": {},
   "outputs": [
    {
     "name": "stdout",
     "output_type": "stream",
     "text": [
      "13 <- 15 -> 46  ...search:  150 in RIGHT Nodo:  1\n"
     ]
    },
    {
     "ename": "AttributeError",
     "evalue": "'int' object has no attribute 'append'",
     "output_type": "error",
     "traceback": [
      "\u001b[1;31m---------------------------------------------------------------------------\u001b[0m",
      "\u001b[1;31mAttributeError\u001b[0m                            Traceback (most recent call last)",
      "\u001b[1;32mc:\\Users\\20211094040006\\Desktop\\EDNL\\Arvore Binaria\\ab.ipynb Cell 12\u001b[0m line \u001b[0;36m2\n\u001b[0;32m      <a href='vscode-notebook-cell:/c%3A/Users/20211094040006/Desktop/EDNL/Arvore%20Binaria/ab.ipynb#X12sZmlsZQ%3D%3D?line=0'>1</a>\u001b[0m node\u001b[39m=\u001b[39m \u001b[39mint\u001b[39m(\u001b[39m0\u001b[39m)\n\u001b[1;32m----> <a href='vscode-notebook-cell:/c%3A/Users/20211094040006/Desktop/EDNL/Arvore%20Binaria/ab.ipynb#X12sZmlsZQ%3D%3D?line=1'>2</a>\u001b[0m search(raiz,\u001b[39m150\u001b[39;49m,node,[],\u001b[39m0\u001b[39;49m)\n",
      "\u001b[1;32mc:\\Users\\20211094040006\\Desktop\\EDNL\\Arvore Binaria\\ab.ipynb Cell 12\u001b[0m line \u001b[0;36m2\n\u001b[0;32m     <a href='vscode-notebook-cell:/c%3A/Users/20211094040006/Desktop/EDNL/Arvore%20Binaria/ab.ipynb#X12sZmlsZQ%3D%3D?line=17'>18</a>\u001b[0m     \u001b[39melse\u001b[39;00m:\n\u001b[0;32m     <a href='vscode-notebook-cell:/c%3A/Users/20211094040006/Desktop/EDNL/Arvore%20Binaria/ab.ipynb#X12sZmlsZQ%3D%3D?line=18'>19</a>\u001b[0m         \u001b[39mif\u001b[39;00m typed \u001b[39m!=\u001b[39m \u001b[39mint\u001b[39m(\u001b[39m1\u001b[39m):\n\u001b[1;32m---> <a href='vscode-notebook-cell:/c%3A/Users/20211094040006/Desktop/EDNL/Arvore%20Binaria/ab.ipynb#X12sZmlsZQ%3D%3D?line=19'>20</a>\u001b[0m             searched\u001b[39m.\u001b[39;49mappend(\u001b[39m0\u001b[39m)\n\u001b[0;32m     <a href='vscode-notebook-cell:/c%3A/Users/20211094040006/Desktop/EDNL/Arvore%20Binaria/ab.ipynb#X12sZmlsZQ%3D%3D?line=20'>21</a>\u001b[0m         search(raiz\u001b[39m.\u001b[39mright,value,nodo,typed,searched)\n\u001b[0;32m     <a href='vscode-notebook-cell:/c%3A/Users/20211094040006/Desktop/EDNL/Arvore%20Binaria/ab.ipynb#X12sZmlsZQ%3D%3D?line=22'>23</a>\u001b[0m \u001b[39melif\u001b[39;00m \u001b[39mint\u001b[39m(raiz\u001b[39m.\u001b[39mkey) \u001b[39m>\u001b[39m\u001b[39m=\u001b[39m value:\n",
      "\u001b[1;31mAttributeError\u001b[0m: 'int' object has no attribute 'append'"
     ]
    }
   ],
   "source": [
    "node= int(0)\n",
    "search(raiz,150,node,[],0)"
   ]
  },
  {
   "cell_type": "code",
   "execution_count": 128,
   "metadata": {},
   "outputs": [
    {
     "name": "stdout",
     "output_type": "stream",
     "text": [
      "13 <- 15 -> 46\n"
     ]
    }
   ],
   "source": [
    "print(raiz)"
   ]
  },
  {
   "cell_type": "code",
   "execution_count": null,
   "metadata": {},
   "outputs": [],
   "source": []
  }
 ],
 "metadata": {
  "kernelspec": {
   "display_name": "Python 3.10.7 64-bit",
   "language": "python",
   "name": "python3"
  },
  "language_info": {
   "codemirror_mode": {
    "name": "ipython",
    "version": 3
   },
   "file_extension": ".py",
   "mimetype": "text/x-python",
   "name": "python",
   "nbconvert_exporter": "python",
   "pygments_lexer": "ipython3",
   "version": "3.11.4"
  },
  "orig_nbformat": 4,
  "vscode": {
   "interpreter": {
    "hash": "369f2c481f4da34e4445cda3fffd2e751bd1c4d706f27375911949ba6bb62e1c"
   }
  }
 },
 "nbformat": 4,
 "nbformat_minor": 2
}
