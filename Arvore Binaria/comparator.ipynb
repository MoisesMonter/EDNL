{
 "cells": [
  {
   "cell_type": "code",
   "execution_count": 6,
   "metadata": {},
   "outputs": [
    {
     "name": "stdout",
     "output_type": "stream",
     "text": [
      "[7395, 8480, 9625, 4705, 6105, 5768, 332, 6630, 7833, 2264, 5063, 5460, 9677, 5368, 3037, 2505, 7772, 7048, 6301, 2641, 3, 7960, 3773, 1151, 154, 5915, 5917, 3464, 6503, 7845, 2367, 4877, 9508, 716, 1865, 5877, 8501, 2866, 5639, 1373, 4016, 4517, 6033, 2636, 6607, 7807, 2195, 7458, 1591, 2240, 2821]\n"
     ]
    }
   ],
   "source": [
    "import random\n",
    "\n",
    "lista = [random.randint(0,10000) for x in range(10000)]\n",
    "print(lista[999:1050])"
   ]
  },
  {
   "cell_type": "code",
   "execution_count": 58,
   "metadata": {},
   "outputs": [],
   "source": [
    "class nodo:\n",
    "    def __init__(self, value, left = None,right = None ):\n",
    "        self.left = left\n",
    "        self.key = int(value)\n",
    "        self.right = right\n",
    "        \n",
    "    def __repr__(self):\n",
    "        return '%s <- %s -> %s' % (self.left and self.left.key,\n",
    "                                    self.key,\n",
    "                                    self.right and self.right.key)"
   ]
  },
  {
   "cell_type": "code",
   "execution_count": 62,
   "metadata": {},
   "outputs": [],
   "source": [
    "def create_list():\n",
    "    return [random.randint(0,10000) for x in range(100000)]"
   ]
  },
  {
   "cell_type": "code",
   "execution_count": 55,
   "metadata": {},
   "outputs": [],
   "source": [
    "def create_node(raiz,value):\n",
    "    if raiz == None:\n",
    "        raiz = nodo(value)\n",
    "    \n",
    "    elif int(raiz.key) <= int(value):\n",
    "        if raiz.right == None:\n",
    "            raiz.right = nodo(value)\n",
    "        else:\n",
    "            create_node(raiz.right,value)\n",
    "    else:\n",
    "        if raiz.left == None:\n",
    "            raiz.left = nodo(value)\n",
    "        else:\n",
    "            create_node(raiz.left,value)\n",
    "\n"
   ]
  },
  {
   "cell_type": "code",
   "execution_count": 61,
   "metadata": {},
   "outputs": [],
   "source": [
    "def new_tree(raiz = None):\n",
    "    for x in [random.randint(0,10000) for x in range(10000)]:\n",
    "        if raiz == None:\n",
    "            raiz = nodo(int(x))\n",
    "        else:\n",
    "            create_node(raiz,x)\n",
    "    print(raiz)"
   ]
  },
  {
   "cell_type": "code",
   "execution_count": null,
   "metadata": {},
   "outputs": [],
   "source": [
    "def bubblesort(lista):\n",
    "    for first_range in range(len(lista)-1,0,-1):\n",
    "        for value in range(first_range):\n",
    "            if lista[value] . lista[value+1]:\n",
    "                aux = lista[value]\n",
    "                lista[value] = lista[value+1]\n",
    "                lista[value+1] = aux\n"
   ]
  },
  {
   "cell_type": "code",
   "execution_count": null,
   "metadata": {},
   "outputs": [],
   "source": [
    "def quickSort(alist):\n",
    "   quickSortHelper(alist,0,len(alist)-1)\n",
    "\n",
    "def quickSortHelper(alist,first,last):\n",
    "   if first<last:\n",
    "\n",
    "       splitpoint = partition(alist,first,last)\n",
    "\n",
    "       quickSortHelper(alist,first,splitpoint-1)\n",
    "       quickSortHelper(alist,splitpoint+1,last)\n",
    "\n",
    "\n",
    "def partition(alist,first,last):\n",
    "   pivotvalue = alist[first]\n",
    "\n",
    "   leftmark = first+1\n",
    "   rightmark = last\n",
    "\n",
    "   done = False\n",
    "   while not done:\n",
    "\n",
    "       while leftmark <= rightmark and alist[leftmark] <= pivotvalue:\n",
    "           leftmark = leftmark + 1\n",
    "\n",
    "       while alist[rightmark] >= pivotvalue and rightmark >= leftmark:\n",
    "           rightmark = rightmark -1\n",
    "\n",
    "       if rightmark < leftmark:\n",
    "           done = True\n",
    "       else:\n",
    "           temp = alist[leftmark]\n",
    "           alist[leftmark] = alist[rightmark]\n",
    "           alist[rightmark] = temp\n",
    "\n",
    "   temp = alist[first]\n",
    "   alist[first] = alist[rightmark]\n",
    "   alist[rightmark] = temp\n",
    "\n",
    "\n",
    "   return rightmark\n",
    "\n",
    "alist = [54,26,93,17,77,31,44,55,20]\n",
    "quickSort(alist)\n",
    "print(alist)\n"
   ]
  },
  {
   "cell_type": "code",
   "execution_count": null,
   "metadata": {},
   "outputs": [],
   "source": [
    "def quicksort(lista):\n",
    "    quicksortpivo(lista,0,len(lista)-1)\n",
    "\n",
    "def quicksortpivo(lista,inicio,ultimo):\n",
    "    if inicio<ultimo:\n",
    "        splitar_posicao = partition(lista,inicio,ultimo)\n",
    "\n",
    "def partition(lista,first,last):\n",
    "    pivo= lista[first]\n",
    "    left_p = first\n",
    "    right_p = last\n",
    "\n",
    "    end = False\n",
    "    while not end:\n",
    "        while left_p <= right_p and lista[left_p] <= pivo:\n",
    "            left_p = left_p+1\n",
    "        \n",
    "        while pivo <lista[right_p] and left_p < right_p:\n",
    "            right_p = right_p+1\n",
    "        \n",
    "        if right_p < left_p:\n",
    "            end = True\n",
    "\n",
    "        else:\n",
    "            aux = lista[first]\n",
    "            lista[first] = lista[right_p]\n",
    "            lista[right_p] = aux\n",
    "    aux = lista[first]\n",
    "    lista[first] = lista[right_p]\n",
    "    lista[right_p] = aux            \n",
    "    \n",
    "    return right_p"
   ]
  },
  {
   "cell_type": "code",
   "execution_count": 60,
   "metadata": {},
   "outputs": [
    {
     "name": "stdout",
     "output_type": "stream",
     "text": [
      "None <- 584 -> 706\n"
     ]
    }
   ],
   "source": [
    "\n",
    "new_tree()"
   ]
  },
  {
   "cell_type": "code",
   "execution_count": 63,
   "metadata": {},
   "outputs": [
    {
     "name": "stdout",
     "output_type": "stream",
     "text": [
      "[1, 1, 2, 3, 4, 4, 5, 6, 6, 8, 9, 9, 11, 11, 11, 12, 13, 14, 15, 17, 18, 18, 19, 21, 22, 22, 23, 23, 24, 25, 25, 26, 28, 29, 29, 29, 31, 32, 34, 35, 35, 37, 38, 38, 40, 40, 40, 41, 41, 41]\n"
     ]
    }
   ],
   "source": [
    "\n",
    "print(lista[0:50])"
   ]
  }
 ],
 "metadata": {
  "kernelspec": {
   "display_name": "Python 3.10.7 64-bit",
   "language": "python",
   "name": "python3"
  },
  "language_info": {
   "codemirror_mode": {
    "name": "ipython",
    "version": 3
   },
   "file_extension": ".py",
   "mimetype": "text/x-python",
   "name": "python",
   "nbconvert_exporter": "python",
   "pygments_lexer": "ipython3",
   "version": "3.10.7"
  },
  "orig_nbformat": 4,
  "vscode": {
   "interpreter": {
    "hash": "369f2c481f4da34e4445cda3fffd2e751bd1c4d706f27375911949ba6bb62e1c"
   }
  }
 },
 "nbformat": 4,
 "nbformat_minor": 2
}
