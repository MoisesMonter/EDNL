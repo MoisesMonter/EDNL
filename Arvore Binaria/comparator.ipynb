{
 "cells": [
  {
   "cell_type": "code",
   "execution_count": 1,
   "metadata": {},
   "outputs": [],
   "source": [
    "import random\n",
    "size=10000"
   ]
  },
  {
   "cell_type": "code",
   "execution_count": 82,
   "metadata": {},
   "outputs": [],
   "source": [
    "import sys\n",
    "sys.setrecursionlimit(300000)\n",
    "\n",
    "\n",
    "raiz = nodo(x) \n",
    "print(raiz.right.left.key)"
   ]
  },
  {
   "cell_type": "code",
   "execution_count": 2,
   "metadata": {},
   "outputs": [],
   "source": [
    "class nodo:\n",
    "    def __init__(self, value, left = None,right = None ):\n",
    "        self.left = left\n",
    "        self.key = int(value)\n",
    "        self.right = right\n",
    "        \n",
    "    def __repr__(self):\n",
    "        return '%s <- %s -> %s' % (self.left and self.left.key,\n",
    "                                    self.key,\n",
    "                                    self.right and self.right.key)"
   ]
  },
  {
   "cell_type": "code",
   "execution_count": 53,
   "metadata": {},
   "outputs": [],
   "source": [
    "def create_list(size = None):\n",
    "    if size != None:\n",
    "        return [random.randint(0,10000) for x in range(0,size,1)]\n",
    "    else:\n",
    "        return [random.randint(0,10000) for x in range(100)]"
   ]
  },
  {
   "cell_type": "code",
   "execution_count": 26,
   "metadata": {},
   "outputs": [],
   "source": [
    "def create_node(raiz,value):\n",
    "    if raiz == None:\n",
    "        raiz = nodo(value)\n",
    "    \n",
    "    elif int(raiz.key) <= int(value):\n",
    "        if raiz.right == None:\n",
    "            raiz.right = nodo(value)\n",
    "\n",
    "        else:\n",
    "            create_node(raiz.right,value)\n",
    "\n",
    "    else:\n",
    "        if raiz.left == None:\n",
    "            raiz.left = nodo(value)\n",
    "\n",
    "        else:\n",
    "            create_node(raiz.left,value)\n",
    "\n",
    "    return raiz\n"
   ]
  },
  {
   "cell_type": "code",
   "execution_count": 96,
   "metadata": {},
   "outputs": [],
   "source": [
    "def search(raiz,value):\n",
    "    if int(raiz.key)>value:\n",
    "        if raiz.left == None:\n",
    "            # print(\"Não encontado\")\n",
    "            return None\n",
    "        search(raiz.left,value)\n",
    "    if int(raiz.key)<value:\n",
    "        if raiz.right == None:\n",
    "            # print(\"Não encontado\")\n",
    "            return None\n",
    "        search(raiz.right,value)\n",
    "    if int(raiz.key) == value:\n",
    "        # print(\"encontrado\")\n",
    "        return raiz.key"
   ]
  },
  {
   "cell_type": "code",
   "execution_count": 79,
   "metadata": {},
   "outputs": [],
   "source": [
    "def new_tree(raiz = None,lista = None):\n",
    "    if lista == None:\n",
    "        for x in [random.randint(0,1000000) for x in range(10000)]:\n",
    "            if raiz == None:\n",
    "                raiz = nodo(int(x))\n",
    "            else:\n",
    "                create_node(raiz,x)\n",
    "    else:\n",
    "        for x in lista:\n",
    "            if raiz == None:\n",
    "                raiz = nodo(int(x))\n",
    "            else:\n",
    "                create_node(raiz,x)\n",
    "    print(raiz)\n",
    "    return raiz"
   ]
  },
  {
   "cell_type": "code",
   "execution_count": 63,
   "metadata": {},
   "outputs": [],
   "source": [
    "def bubblesort(lista):\n",
    "    for first_range in range(len(lista)-1,0,-1):\n",
    "        for value in range(first_range):\n",
    "            if lista[value] > lista[value+1]:\n",
    "                aux = lista[value]\n",
    "                lista[value] = lista[value+1]\n",
    "                lista[value+1] = aux\n",
    "    return lista"
   ]
  },
  {
   "cell_type": "code",
   "execution_count": 8,
   "metadata": {},
   "outputs": [],
   "source": [
    "def quickSort(alist):\n",
    "   quickSortHelper(alist,0,len(alist)-1)\n",
    "\n",
    "def quickSortHelper(alist,first,last):\n",
    "   if first<last:\n",
    "\n",
    "       splitpoint = partition(alist,first,last)\n",
    "\n",
    "       quickSortHelper(alist,first,splitpoint-1)\n",
    "       quickSortHelper(alist,splitpoint+1,last)\n",
    "\n",
    "\n",
    "def partition(alist,first,last):\n",
    "   pivotvalue = alist[first]\n",
    "\n",
    "   leftmark = first+1\n",
    "   rightmark = last\n",
    "\n",
    "   done = False\n",
    "   while not done:\n",
    "\n",
    "       while leftmark <= rightmark and alist[leftmark] <= pivotvalue:\n",
    "           leftmark = leftmark + 1\n",
    "\n",
    "       while alist[rightmark] >= pivotvalue and rightmark >= leftmark:\n",
    "           rightmark = rightmark -1\n",
    "\n",
    "       if rightmark < leftmark:\n",
    "           done = True\n",
    "       else:\n",
    "           temp = alist[leftmark]\n",
    "           alist[leftmark] = alist[rightmark]\n",
    "           alist[rightmark] = temp\n",
    "\n",
    "   temp = alist[first]\n",
    "   alist[first] = alist[rightmark]\n",
    "   alist[rightmark] = temp\n",
    "\n",
    "\n",
    "   return rightmark\n"
   ]
  },
  {
   "cell_type": "code",
   "execution_count": 84,
   "metadata": {},
   "outputs": [],
   "source": [
    "def quicksort(lista):\n",
    "    quicksortpivo(lista,0,len(lista)-1)\n",
    "    return lista\n",
    "def quicksortpivo(lista,inicio,ultimo):\n",
    "    if inicio<=ultimo:\n",
    "        splitar_posicao = partition(lista,inicio,ultimo)\n",
    "        quicksortpivo(lista,inicio,splitar_posicao-1)\n",
    "        quicksortpivo(lista,splitar_posicao+1,ultimo)\n",
    "    return lista\n",
    "def partition(alist,first,last):\n",
    "   pivotvalue = alist[first]\n",
    "\n",
    "   leftmark = first+1\n",
    "   rightmark = last\n",
    "\n",
    "   done = False\n",
    "   while not done:\n",
    "\n",
    "       while leftmark <= rightmark and alist[leftmark] <= pivotvalue:\n",
    "           leftmark = leftmark + 1\n",
    "\n",
    "       while alist[rightmark] >= pivotvalue and rightmark >= leftmark:\n",
    "           rightmark = rightmark -1\n",
    "\n",
    "       if rightmark < leftmark:\n",
    "           done = True\n",
    "       else:\n",
    "           temp = alist[leftmark]\n",
    "           alist[leftmark] = alist[rightmark]\n",
    "           alist[rightmark] = temp\n",
    "\n",
    "   temp = alist[first]\n",
    "   alist[first] = alist[rightmark]\n",
    "   alist[rightmark] = temp\n",
    "\n",
    "\n",
    "   return rightmark"
   ]
  },
  {
   "cell_type": "code",
   "execution_count": 94,
   "metadata": {},
   "outputs": [],
   "source": [
    "def divisao_conquista(lista, value, menor, maior):\n",
    "    if menor > maior:\n",
    "        return -1  # Elemento não encontrado\n",
    "\n",
    "    meio = (menor + maior) // 2\n",
    "\n",
    "    if lista[meio] == value:\n",
    "        return meio\n",
    "    elif lista[meio] < value:\n",
    "        return divisao_conquista(lista, value, meio + 1, maior)\n",
    "    else:\n",
    "        return divisao_conquista(lista, value, menor, meio - 1)\n"
   ]
  },
  {
   "cell_type": "code",
   "execution_count": 88,
   "metadata": {},
   "outputs": [],
   "source": [
    "size = 100000\n",
    "lista = create_list(size)"
   ]
  },
  {
   "cell_type": "code",
   "execution_count": 89,
   "metadata": {},
   "outputs": [
    {
     "name": "stdout",
     "output_type": "stream",
     "text": [
      "[0, 0, 0, 0, 0, 0, 0, 0, 0, 0, 0, 1, 1, 1, 1, 1, 1, 1, 1, 1, 1, 1, 1, 1, 2, 2, 2, 2, 2, 2, 2, 2, 2, 2, 2, 3, 3, 3, 3, 3, 3, 3, 3, 3, 3, 3, 3, 3, 3, 4, 4, 4, 4, 4, 4, 4, 4, 4, 4, 4, 4, 4, 4, 5, 5, 5, 5, 5, 5, 5, 5, 5, 5, 5, 5, 6, 6, 6, 6, 6, 6, 6, 6, 6, 6, 7, 7, 7, 7, 7, 7, 7, 7, 7, 8, 8, 8, 8, 8, 8] ... [9990, 9990, 9991, 9991, 9991, 9991, 9991, 9991, 9992, 9992, 9992, 9992, 9992, 9992, 9992, 9992, 9992, 9992, 9992, 9992, 9992, 9992, 9993, 9993, 9993, 9993, 9993, 9993, 9993, 9994, 9994, 9994, 9994, 9994, 9994, 9994, 9994, 9994, 9994, 9994, 9995, 9995, 9995, 9995, 9995, 9995, 9995, 9995, 9995, 9995, 9996, 9996, 9996, 9996, 9996, 9996, 9996, 9996, 9996, 9996, 9996, 9996, 9997, 9997, 9997, 9997, 9997, 9997, 9997, 9997, 9997, 9998, 9998, 9998, 9998, 9998, 9998, 9998, 9998, 9998, 9998, 9999, 9999, 9999, 9999, 9999, 9999, 9999, 9999, 9999, 9999, 10000, 10000, 10000, 10000, 10000, 10000, 10000, 10000, 10000]\n"
     ]
    }
   ],
   "source": [
    "lbb = bubblesort(lista)\n",
    "print(lbb[:100],'...',lbb[-100:])"
   ]
  },
  {
   "cell_type": "markdown",
   "metadata": {},
   "source": [
    "![Alt text](buublesort_image.png)\n",
    "![Alt text](image.png)\n",
    "criando bubblesort"
   ]
  },
  {
   "cell_type": "code",
   "execution_count": 90,
   "metadata": {},
   "outputs": [
    {
     "name": "stdout",
     "output_type": "stream",
     "text": [
      "[0, 0, 0, 0, 0, 0, 0, 0, 0, 0, 0, 1, 1, 1, 1, 1, 1, 1, 1, 1, 1, 1, 1, 1, 2, 2, 2, 2, 2, 2, 2, 2, 2, 2, 2, 3, 3, 3, 3, 3, 3, 3, 3, 3, 3, 3, 3, 3, 3, 4, 4, 4, 4, 4, 4, 4, 4, 4, 4, 4, 4, 4, 4, 5, 5, 5, 5, 5, 5, 5, 5, 5, 5, 5, 5, 6, 6, 6, 6, 6, 6, 6, 6, 6, 6, 7, 7, 7, 7, 7, 7, 7, 7, 7, 8, 8, 8, 8, 8, 8] ... [9990, 9990, 9991, 9991, 9991, 9991, 9991, 9991, 9992, 9992, 9992, 9992, 9992, 9992, 9992, 9992, 9992, 9992, 9992, 9992, 9992, 9992, 9993, 9993, 9993, 9993, 9993, 9993, 9993, 9994, 9994, 9994, 9994, 9994, 9994, 9994, 9994, 9994, 9994, 9994, 9995, 9995, 9995, 9995, 9995, 9995, 9995, 9995, 9995, 9995, 9996, 9996, 9996, 9996, 9996, 9996, 9996, 9996, 9996, 9996, 9996, 9996, 9997, 9997, 9997, 9997, 9997, 9997, 9997, 9997, 9997, 9998, 9998, 9998, 9998, 9998, 9998, 9998, 9998, 9998, 9998, 9999, 9999, 9999, 9999, 9999, 9999, 9999, 9999, 9999, 9999, 10000, 10000, 10000, 10000, 10000, 10000, 10000, 10000, 10000]\n"
     ]
    }
   ],
   "source": [
    "qks = quicksort(lista)\n",
    "print(qks[:100],'...',qks[-100:])"
   ]
  },
  {
   "cell_type": "markdown",
   "metadata": {},
   "source": [
    "![Alt text](image-1.png)\n",
    "![Alt text](image-2.png)\n",
    "criando bubblesort"
   ]
  },
  {
   "cell_type": "code",
   "execution_count": 91,
   "metadata": {},
   "outputs": [
    {
     "name": "stdout",
     "output_type": "stream",
     "text": [
      "None <- 0 -> 0\n"
     ]
    }
   ],
   "source": [
    "x = None\n",
    "x = new_tree(x,lista)\n",
    "\n"
   ]
  },
  {
   "cell_type": "markdown",
   "metadata": {},
   "source": [
    "![Alt text](image-3.png)\n",
    "Criando arvore binária\n",
    "![Alt text](image-4.png)"
   ]
  },
  {
   "cell_type": "code",
   "execution_count": 97,
   "metadata": {},
   "outputs": [],
   "source": [
    "search(x,9992)"
   ]
  },
  {
   "cell_type": "markdown",
   "metadata": {},
   "source": [
    "\n",
    "busca arvore"
   ]
  },
  {
   "cell_type": "markdown",
   "metadata": {},
   "source": [
    "busca bubble list em busca binaria"
   ]
  },
  {
   "cell_type": "code",
   "execution_count": 98,
   "metadata": {},
   "outputs": [
    {
     "name": "stdout",
     "output_type": "stream",
     "text": [
      "99914\n"
     ]
    }
   ],
   "source": [
    "result = divisao_conquista(lbb, 9992, 0, len(lbb) - 1)\n",
    "print(result)"
   ]
  },
  {
   "cell_type": "markdown",
   "metadata": {},
   "source": [
    "busca qucksort list em busca binaria"
   ]
  },
  {
   "cell_type": "code",
   "execution_count": 99,
   "metadata": {},
   "outputs": [
    {
     "name": "stdout",
     "output_type": "stream",
     "text": [
      "99914\n"
     ]
    }
   ],
   "source": [
    "result = divisao_conquista(lbb, 9992, 0, len(qks) - 1)\n",
    "print(result)"
   ]
  }
 ],
 "metadata": {
  "kernelspec": {
   "display_name": "Python 3.10.7 64-bit",
   "language": "python",
   "name": "python3"
  },
  "language_info": {
   "codemirror_mode": {
    "name": "ipython",
    "version": 3
   },
   "file_extension": ".py",
   "mimetype": "text/x-python",
   "name": "python",
   "nbconvert_exporter": "python",
   "pygments_lexer": "ipython3",
   "version": "3.11.4"
  },
  "orig_nbformat": 4,
  "vscode": {
   "interpreter": {
    "hash": "369f2c481f4da34e4445cda3fffd2e751bd1c4d706f27375911949ba6bb62e1c"
   }
  }
 },
 "nbformat": 4,
 "nbformat_minor": 2
}
