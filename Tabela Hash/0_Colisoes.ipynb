{
 "cells": [
  {
   "cell_type": "markdown",
   "metadata": {},
   "source": [
    "Como tartar os elementos cujo valor da\n",
    "função hash é o mesmo?\n",
    "• Para tratar as colisões, pode-se colocar o\n",
    "elemento na primeira posição livre seguinte e\n",
    "considerar a tabela como circular (o elemento\n",
    "seguinte ao último a[n-1] é o primeiro a[0]. S\n",
    "Isso se aplica\n",
    "• tanto na inserção de novos elementos quanto\n",
    "na busca."
   ]
  },
  {
   "cell_type": "code",
   "execution_count": null,
   "metadata": {},
   "outputs": [],
   "source": []
  }
 ],
 "metadata": {
  "language_info": {
   "name": "python"
  },
  "orig_nbformat": 4
 },
 "nbformat": 4,
 "nbformat_minor": 2
}
